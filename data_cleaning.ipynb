{
 "cells": [
  {
   "cell_type": "code",
   "execution_count": 45,
   "id": "09aa4be1-ebf5-410c-bae3-0e1c4fc88205",
   "metadata": {},
   "outputs": [],
   "source": [
    "import pandas as pd\n",
    "import numpy as np\n",
    "import matplotlib as mt"
   ]
  },
  {
   "cell_type": "code",
   "execution_count": null,
   "id": "54dcb024-d61b-4d65-9809-461564fe9c4d",
   "metadata": {},
   "outputs": [],
   "source": [
    "df=pd.read_csv('Flipkart_Mobiles.csv')\n",
    "\n"
   ]
  },
  {
   "cell_type": "code",
   "execution_count": 9,
   "id": "214e2a34-58e1-49e9-bc40-aecb7ab38e1a",
   "metadata": {},
   "outputs": [
    {
     "data": {
      "text/html": [
       "<div>\n",
       "<style scoped>\n",
       "    .dataframe tbody tr th:only-of-type {\n",
       "        vertical-align: middle;\n",
       "    }\n",
       "\n",
       "    .dataframe tbody tr th {\n",
       "        vertical-align: top;\n",
       "    }\n",
       "\n",
       "    .dataframe thead th {\n",
       "        text-align: right;\n",
       "    }\n",
       "</style>\n",
       "<table border=\"1\" class=\"dataframe\">\n",
       "  <thead>\n",
       "    <tr style=\"text-align: right;\">\n",
       "      <th></th>\n",
       "      <th>Brand</th>\n",
       "      <th>Model</th>\n",
       "      <th>Color</th>\n",
       "      <th>Memory</th>\n",
       "      <th>Storage</th>\n",
       "      <th>Rating</th>\n",
       "      <th>Selling Price</th>\n",
       "      <th>Original Price</th>\n",
       "    </tr>\n",
       "  </thead>\n",
       "  <tbody>\n",
       "    <tr>\n",
       "      <th>0</th>\n",
       "      <td>OPPO</td>\n",
       "      <td>A53</td>\n",
       "      <td>Moonlight Black</td>\n",
       "      <td>4 GB</td>\n",
       "      <td>64 GB</td>\n",
       "      <td>4.5</td>\n",
       "      <td>11990</td>\n",
       "      <td>15990</td>\n",
       "    </tr>\n",
       "    <tr>\n",
       "      <th>1</th>\n",
       "      <td>OPPO</td>\n",
       "      <td>A53</td>\n",
       "      <td>Mint Cream</td>\n",
       "      <td>4 GB</td>\n",
       "      <td>64 GB</td>\n",
       "      <td>4.5</td>\n",
       "      <td>11990</td>\n",
       "      <td>15990</td>\n",
       "    </tr>\n",
       "    <tr>\n",
       "      <th>2</th>\n",
       "      <td>OPPO</td>\n",
       "      <td>A53</td>\n",
       "      <td>Moonlight Black</td>\n",
       "      <td>6 GB</td>\n",
       "      <td>128 GB</td>\n",
       "      <td>4.3</td>\n",
       "      <td>13990</td>\n",
       "      <td>17990</td>\n",
       "    </tr>\n",
       "    <tr>\n",
       "      <th>3</th>\n",
       "      <td>OPPO</td>\n",
       "      <td>A53</td>\n",
       "      <td>Mint Cream</td>\n",
       "      <td>6 GB</td>\n",
       "      <td>128 GB</td>\n",
       "      <td>4.3</td>\n",
       "      <td>13990</td>\n",
       "      <td>17990</td>\n",
       "    </tr>\n",
       "    <tr>\n",
       "      <th>4</th>\n",
       "      <td>OPPO</td>\n",
       "      <td>A53</td>\n",
       "      <td>Electric Black</td>\n",
       "      <td>4 GB</td>\n",
       "      <td>64 GB</td>\n",
       "      <td>4.5</td>\n",
       "      <td>11990</td>\n",
       "      <td>15990</td>\n",
       "    </tr>\n",
       "    <tr>\n",
       "      <th>5</th>\n",
       "      <td>OPPO</td>\n",
       "      <td>A53</td>\n",
       "      <td>Electric Black</td>\n",
       "      <td>6 GB</td>\n",
       "      <td>128 GB</td>\n",
       "      <td>4.3</td>\n",
       "      <td>13990</td>\n",
       "      <td>17990</td>\n",
       "    </tr>\n",
       "    <tr>\n",
       "      <th>6</th>\n",
       "      <td>OPPO</td>\n",
       "      <td>A12</td>\n",
       "      <td>Deep Blue</td>\n",
       "      <td>4 GB</td>\n",
       "      <td>64 GB</td>\n",
       "      <td>4.4</td>\n",
       "      <td>10490</td>\n",
       "      <td>11990</td>\n",
       "    </tr>\n",
       "    <tr>\n",
       "      <th>7</th>\n",
       "      <td>OPPO</td>\n",
       "      <td>A12</td>\n",
       "      <td>Black</td>\n",
       "      <td>3 GB</td>\n",
       "      <td>32 GB</td>\n",
       "      <td>4.4</td>\n",
       "      <td>9490</td>\n",
       "      <td>10990</td>\n",
       "    </tr>\n",
       "    <tr>\n",
       "      <th>8</th>\n",
       "      <td>OPPO</td>\n",
       "      <td>A12</td>\n",
       "      <td>Blue</td>\n",
       "      <td>3 GB</td>\n",
       "      <td>32 GB</td>\n",
       "      <td>4.4</td>\n",
       "      <td>9490</td>\n",
       "      <td>10990</td>\n",
       "    </tr>\n",
       "    <tr>\n",
       "      <th>9</th>\n",
       "      <td>OPPO</td>\n",
       "      <td>A12</td>\n",
       "      <td>Flowing Silver</td>\n",
       "      <td>3 GB</td>\n",
       "      <td>32 GB</td>\n",
       "      <td>4.4</td>\n",
       "      <td>9490</td>\n",
       "      <td>10990</td>\n",
       "    </tr>\n",
       "  </tbody>\n",
       "</table>\n",
       "</div>"
      ],
      "text/plain": [
       "  Brand Model            Color Memory Storage  Rating  Selling Price  \\\n",
       "0  OPPO   A53  Moonlight Black   4 GB   64 GB     4.5          11990   \n",
       "1  OPPO   A53       Mint Cream   4 GB   64 GB     4.5          11990   \n",
       "2  OPPO   A53  Moonlight Black   6 GB  128 GB     4.3          13990   \n",
       "3  OPPO   A53       Mint Cream   6 GB  128 GB     4.3          13990   \n",
       "4  OPPO   A53   Electric Black   4 GB   64 GB     4.5          11990   \n",
       "5  OPPO   A53   Electric Black   6 GB  128 GB     4.3          13990   \n",
       "6  OPPO   A12        Deep Blue   4 GB   64 GB     4.4          10490   \n",
       "7  OPPO   A12            Black   3 GB   32 GB     4.4           9490   \n",
       "8  OPPO   A12             Blue   3 GB   32 GB     4.4           9490   \n",
       "9  OPPO   A12   Flowing Silver   3 GB   32 GB     4.4           9490   \n",
       "\n",
       "   Original Price  \n",
       "0           15990  \n",
       "1           15990  \n",
       "2           17990  \n",
       "3           17990  \n",
       "4           15990  \n",
       "5           17990  \n",
       "6           11990  \n",
       "7           10990  \n",
       "8           10990  \n",
       "9           10990  "
      ]
     },
     "execution_count": 9,
     "metadata": {},
     "output_type": "execute_result"
    }
   ],
   "source": [
    "df.head(10)"
   ]
  },
  {
   "cell_type": "code",
   "execution_count": 10,
   "id": "8dfe3d99-ef33-4d35-92f9-60dbf1e86d50",
   "metadata": {},
   "outputs": [
    {
     "data": {
      "text/html": [
       "<div>\n",
       "<style scoped>\n",
       "    .dataframe tbody tr th:only-of-type {\n",
       "        vertical-align: middle;\n",
       "    }\n",
       "\n",
       "    .dataframe tbody tr th {\n",
       "        vertical-align: top;\n",
       "    }\n",
       "\n",
       "    .dataframe thead th {\n",
       "        text-align: right;\n",
       "    }\n",
       "</style>\n",
       "<table border=\"1\" class=\"dataframe\">\n",
       "  <thead>\n",
       "    <tr style=\"text-align: right;\">\n",
       "      <th></th>\n",
       "      <th>Rating</th>\n",
       "      <th>Selling Price</th>\n",
       "      <th>Original Price</th>\n",
       "    </tr>\n",
       "  </thead>\n",
       "  <tbody>\n",
       "    <tr>\n",
       "      <th>count</th>\n",
       "      <td>2970.000000</td>\n",
       "      <td>3114.000000</td>\n",
       "      <td>3114.000000</td>\n",
       "    </tr>\n",
       "    <tr>\n",
       "      <th>mean</th>\n",
       "      <td>4.243098</td>\n",
       "      <td>26436.625562</td>\n",
       "      <td>28333.473025</td>\n",
       "    </tr>\n",
       "    <tr>\n",
       "      <th>std</th>\n",
       "      <td>0.271991</td>\n",
       "      <td>30066.892622</td>\n",
       "      <td>31525.599889</td>\n",
       "    </tr>\n",
       "    <tr>\n",
       "      <th>min</th>\n",
       "      <td>2.300000</td>\n",
       "      <td>1000.000000</td>\n",
       "      <td>1000.000000</td>\n",
       "    </tr>\n",
       "    <tr>\n",
       "      <th>25%</th>\n",
       "      <td>4.100000</td>\n",
       "      <td>9990.000000</td>\n",
       "      <td>10030.250000</td>\n",
       "    </tr>\n",
       "    <tr>\n",
       "      <th>50%</th>\n",
       "      <td>4.300000</td>\n",
       "      <td>15000.000000</td>\n",
       "      <td>16889.500000</td>\n",
       "    </tr>\n",
       "    <tr>\n",
       "      <th>75%</th>\n",
       "      <td>4.400000</td>\n",
       "      <td>28999.000000</td>\n",
       "      <td>31500.000000</td>\n",
       "    </tr>\n",
       "    <tr>\n",
       "      <th>max</th>\n",
       "      <td>5.000000</td>\n",
       "      <td>179900.000000</td>\n",
       "      <td>189999.000000</td>\n",
       "    </tr>\n",
       "  </tbody>\n",
       "</table>\n",
       "</div>"
      ],
      "text/plain": [
       "            Rating  Selling Price  Original Price\n",
       "count  2970.000000    3114.000000     3114.000000\n",
       "mean      4.243098   26436.625562    28333.473025\n",
       "std       0.271991   30066.892622    31525.599889\n",
       "min       2.300000    1000.000000     1000.000000\n",
       "25%       4.100000    9990.000000    10030.250000\n",
       "50%       4.300000   15000.000000    16889.500000\n",
       "75%       4.400000   28999.000000    31500.000000\n",
       "max       5.000000  179900.000000   189999.000000"
      ]
     },
     "execution_count": 10,
     "metadata": {},
     "output_type": "execute_result"
    }
   ],
   "source": [
    "df.describe()"
   ]
  },
  {
   "cell_type": "code",
   "execution_count": 11,
   "id": "ca90d293-b046-401d-8bdd-a6a3f7982cfd",
   "metadata": {},
   "outputs": [
    {
     "name": "stdout",
     "output_type": "stream",
     "text": [
      "<class 'pandas.core.frame.DataFrame'>\n",
      "RangeIndex: 3114 entries, 0 to 3113\n",
      "Data columns (total 8 columns):\n",
      " #   Column          Non-Null Count  Dtype  \n",
      "---  ------          --------------  -----  \n",
      " 0   Brand           3114 non-null   object \n",
      " 1   Model           3114 non-null   object \n",
      " 2   Color           3114 non-null   object \n",
      " 3   Memory          3071 non-null   object \n",
      " 4   Storage         3075 non-null   object \n",
      " 5   Rating          2970 non-null   float64\n",
      " 6   Selling Price   3114 non-null   int64  \n",
      " 7   Original Price  3114 non-null   int64  \n",
      "dtypes: float64(1), int64(2), object(5)\n",
      "memory usage: 194.8+ KB\n"
     ]
    }
   ],
   "source": [
    "df.info()"
   ]
  },
  {
   "cell_type": "code",
   "execution_count": 21,
   "id": "ceb6e618-32d0-4455-abe8-6129375ef89f",
   "metadata": {},
   "outputs": [
    {
     "data": {
      "text/plain": [
       "Brand              0\n",
       "Model              0\n",
       "Color              0\n",
       "Memory            43\n",
       "Storage           39\n",
       "Rating             0\n",
       "Selling Price      0\n",
       "Original Price     0\n",
       "dtype: int64"
      ]
     },
     "execution_count": 21,
     "metadata": {},
     "output_type": "execute_result"
    }
   ],
   "source": [
    "pd.isnull(df).sum()"
   ]
  },
  {
   "cell_type": "code",
   "execution_count": 19,
   "id": "d60f52a3-0d5a-4d9b-9992-fc179e019c2b",
   "metadata": {},
   "outputs": [
    {
     "data": {
      "text/plain": [
       "0       4.5\n",
       "1       4.5\n",
       "2       4.3\n",
       "3       4.3\n",
       "4       4.5\n",
       "       ... \n",
       "3109    4.3\n",
       "3110    4.3\n",
       "3111    4.3\n",
       "3112    4.2\n",
       "3113    4.2\n",
       "Name: Rating, Length: 3114, dtype: float64"
      ]
     },
     "execution_count": 19,
     "metadata": {},
     "output_type": "execute_result"
    }
   ],
   "source": [
    "## fill rating valules as average vallue because we foind some null values\n",
    "df[\"Rating\"].fillna(4.2)"
   ]
  },
  {
   "cell_type": "code",
   "execution_count": 23,
   "id": "8aede14b-0357-4d9a-8b2a-130007a52964",
   "metadata": {},
   "outputs": [
    {
     "data": {
      "text/plain": [
       "Brand              0\n",
       "Model              0\n",
       "Color              0\n",
       "Memory            43\n",
       "Storage           39\n",
       "Rating             0\n",
       "Selling Price      0\n",
       "Original Price     0\n",
       "dtype: int64"
      ]
     },
     "execution_count": 23,
     "metadata": {},
     "output_type": "execute_result"
    }
   ],
   "source": [
    "## now rating is not null anymore\n",
    "pd.isnull(df).sum()"
   ]
  },
  {
   "cell_type": "code",
   "execution_count": 25,
   "id": "5420aa15-26a4-4853-87ea-f75fcef4cce5",
   "metadata": {},
   "outputs": [
    {
     "data": {
      "text/plain": [
       "Storage\n",
       "64 GB                    774\n",
       "128 GB                   764\n",
       "32 GB                    555\n",
       "16 GB                    322\n",
       "256 GB                   240\n",
       "8 GB                     133\n",
       "512 GB                    67\n",
       "4 GB                      56\n",
       "2 MB                      45\n",
       "4 MB                      28\n",
       "1 TB                      14\n",
       "16 MB                     14\n",
       "128 MB                    12\n",
       "Expandable Upto 16 GB     12\n",
       "Expandable Upto 32 GB     12\n",
       "8 MB                       6\n",
       "256 MB                     3\n",
       "48 MB                      3\n",
       "129 GB                     3\n",
       "64 MB                      3\n",
       "100 MB                     2\n",
       "512 MB                     2\n",
       "130 GB                     2\n",
       "10 MB                      1\n",
       "153 MB                     1\n",
       "140 MB                     1\n",
       "Name: count, dtype: int64"
      ]
     },
     "execution_count": 25,
     "metadata": {},
     "output_type": "execute_result"
    }
   ],
   "source": [
    "# its like a group by function. we checked count of storage size\n",
    "df[\"Storage\"].value_counts()"
   ]
  },
  {
   "cell_type": "code",
   "execution_count": 30,
   "id": "ec5c6300-0c69-4b74-ab27-f9f8bb0b074b",
   "metadata": {},
   "outputs": [],
   "source": [
    "# check null values\n",
    "null_mask = df['Storage'].isnull()\n",
    "\n",
    "# Step 2: Generate random choices between \"64 GB\" and \"128 GB\" where the values are null\n",
    "random_choices = np.random.choice([\"64 GB\", \"128 GB\"], size=null_mask.sum())\n",
    "\n",
    "# Step 3: Assign the random values to the 'Storage' column where there are null values\n",
    "df.loc[null_mask, 'Storage'] = random_choices"
   ]
  },
  {
   "cell_type": "code",
   "execution_count": 31,
   "id": "c9b32f31-5ff6-4336-9dc7-16a2b34b0c3c",
   "metadata": {},
   "outputs": [
    {
     "data": {
      "text/plain": [
       "Storage\n",
       "64 GB                    798\n",
       "128 GB                   779\n",
       "32 GB                    555\n",
       "16 GB                    322\n",
       "256 GB                   240\n",
       "8 GB                     133\n",
       "512 GB                    67\n",
       "4 GB                      56\n",
       "2 MB                      45\n",
       "4 MB                      28\n",
       "1 TB                      14\n",
       "16 MB                     14\n",
       "128 MB                    12\n",
       "Expandable Upto 16 GB     12\n",
       "Expandable Upto 32 GB     12\n",
       "8 MB                       6\n",
       "256 MB                     3\n",
       "48 MB                      3\n",
       "129 GB                     3\n",
       "64 MB                      3\n",
       "100 MB                     2\n",
       "512 MB                     2\n",
       "130 GB                     2\n",
       "10 MB                      1\n",
       "153 MB                     1\n",
       "140 MB                     1\n",
       "Name: count, dtype: int64"
      ]
     },
     "execution_count": 31,
     "metadata": {},
     "output_type": "execute_result"
    }
   ],
   "source": [
    "df[\"Storage\"].value_counts()"
   ]
  },
  {
   "cell_type": "code",
   "execution_count": 32,
   "id": "892a9c97-70ab-406d-bb8c-95db7e1dea0e",
   "metadata": {},
   "outputs": [
    {
     "data": {
      "text/plain": [
       "Brand                0\n",
       "Model                0\n",
       "Color                0\n",
       "Memory              43\n",
       "Storage              0\n",
       "Rating               0\n",
       "Selling Price        0\n",
       "Original Price       0\n",
       "storage           3075\n",
       "dtype: int64"
      ]
     },
     "execution_count": 32,
     "metadata": {},
     "output_type": "execute_result"
    }
   ],
   "source": [
    "pd.isnull(df).sum()"
   ]
  },
  {
   "cell_type": "code",
   "execution_count": 35,
   "id": "310b342b-872d-4a85-aeb1-983ae9572fd9",
   "metadata": {},
   "outputs": [
    {
     "data": {
      "text/plain": [
       "Brand              0\n",
       "Model              0\n",
       "Color              0\n",
       "Memory            43\n",
       "Storage            0\n",
       "Rating             0\n",
       "Selling Price      0\n",
       "Original Price     0\n",
       "dtype: int64"
      ]
     },
     "execution_count": 35,
     "metadata": {},
     "output_type": "execute_result"
    }
   ],
   "source": [
    "pd.isnull(df).sum()"
   ]
  },
  {
   "cell_type": "code",
   "execution_count": 40,
   "id": "814b7587-73be-4867-9b0c-1df55ab5567e",
   "metadata": {},
   "outputs": [],
   "source": [
    "df['Memory'] = df['Memory'].fillna(\"4 GB\")"
   ]
  },
  {
   "cell_type": "code",
   "execution_count": 43,
   "id": "964a66ee-7653-41b7-ba34-341b42780773",
   "metadata": {},
   "outputs": [
    {
     "data": {
      "text/plain": [
       "Brand             0\n",
       "Model             0\n",
       "Color             0\n",
       "Memory            0\n",
       "Storage           0\n",
       "Rating            0\n",
       "Selling Price     0\n",
       "Original Price    0\n",
       "dtype: int64"
      ]
     },
     "execution_count": 43,
     "metadata": {},
     "output_type": "execute_result"
    }
   ],
   "source": [
    "# now we have removed all null values and cleaned the dataset\n",
    "pd.isnull(df).sum()"
   ]
  },
  {
   "cell_type": "code",
   "execution_count": 52,
   "id": "a4dfd27b-5939-40c9-b3f9-1456518e1ad8",
   "metadata": {},
   "outputs": [],
   "source": [
    "df['Original Price'] = pd.to_numeric(df['Original Price'], errors='coerce')\n",
    "df['Selling Price'] = pd.to_numeric(df['Selling Price'], errors='coerce')"
   ]
  },
  {
   "cell_type": "code",
   "execution_count": 53,
   "id": "4dc57c59-4a34-491e-a9f4-99d553c597d1",
   "metadata": {},
   "outputs": [],
   "source": [
    "df['Discount_percentage'] = ((df['Original Price'] - df['Selling Price']) / df['Original Price']) * 100"
   ]
  },
  {
   "cell_type": "code",
   "execution_count": 59,
   "id": "1e9153bc-4123-4828-9b90-9e8be433f1be",
   "metadata": {},
   "outputs": [
    {
     "data": {
      "text/plain": [
       "Brand                  0\n",
       "Model                  0\n",
       "Color                  0\n",
       "Memory                 0\n",
       "Storage                0\n",
       "Rating                 0\n",
       "Selling Price          0\n",
       "Original Price         0\n",
       "Discount_percentage    0\n",
       "dtype: int64"
      ]
     },
     "execution_count": 59,
     "metadata": {},
     "output_type": "execute_result"
    }
   ],
   "source": [
    "pd.isnull(df).sum()"
   ]
  },
  {
   "cell_type": "code",
   "execution_count": 64,
   "id": "1824ce88-8da1-4e44-873c-fe5b3889c184",
   "metadata": {},
   "outputs": [
    {
     "data": {
      "text/plain": [
       "803    70.610305\n",
       "Name: Discount_percentage, dtype: float64"
      ]
     },
     "execution_count": 64,
     "metadata": {},
     "output_type": "execute_result"
    }
   ],
   "source": [
    "# highest discount\n",
    "df['Discount_percentage'].nlargest(1)"
   ]
  },
  {
   "cell_type": "code",
   "execution_count": 65,
   "id": "cba91224-6a4c-482a-b1dc-9f2aace795a9",
   "metadata": {},
   "outputs": [
    {
     "data": {
      "text/plain": [
       "Brand                       GIONEE\n",
       "Model                  Pioneer P3 \n",
       "Color                        White\n",
       "Memory                      512 MB\n",
       "Storage                       4 GB\n",
       "Rating                         3.6\n",
       "Selling Price               2350.0\n",
       "Original Price              7996.0\n",
       "Discount_percentage      70.610305\n",
       "Name: 803, dtype: object"
      ]
     },
     "execution_count": 65,
     "metadata": {},
     "output_type": "execute_result"
    }
   ],
   "source": [
    "df.loc[df['Discount_percentage'].idxmax()]"
   ]
  },
  {
   "cell_type": "code",
   "execution_count": 66,
   "id": "8384a678-1735-462b-ab3b-230ea8921cb2",
   "metadata": {},
   "outputs": [],
   "source": [
    "df.to_csv('cleaned_data.csv', index=False)"
   ]
  },
  {
   "cell_type": "code",
   "execution_count": null,
   "id": "817967e5-8423-4077-9eb9-0805b3288f2b",
   "metadata": {},
   "outputs": [],
   "source": []
  }
 ],
 "metadata": {
  "kernelspec": {
   "display_name": "Python 3 (ipykernel)",
   "language": "python",
   "name": "python3"
  },
  "language_info": {
   "codemirror_mode": {
    "name": "ipython",
    "version": 3
   },
   "file_extension": ".py",
   "mimetype": "text/x-python",
   "name": "python",
   "nbconvert_exporter": "python",
   "pygments_lexer": "ipython3",
   "version": "3.12.2"
  }
 },
 "nbformat": 4,
 "nbformat_minor": 5
}
